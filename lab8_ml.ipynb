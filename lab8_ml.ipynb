{
 "cells": [
  {
   "cell_type": "code",
   "execution_count": 24,
   "id": "9f0338f1",
   "metadata": {},
   "outputs": [],
   "source": [
    "import pandas as pd\n",
    "from sklearn import svm\n",
    "from sklearn.model_selection import train_test_split\n",
    "from sklearn.model_selection import train_test_split\n",
    "from sklearn.linear_model import LogisticRegression\n",
    "from sklearn.metrics import accuracy_score, classification_report"
   ]
  },
  {
   "cell_type": "code",
   "execution_count": 25,
   "metadata": {},
   "outputs": [
    {
     "name": "stdout",
     "output_type": "stream",
     "text": [
      "buys_computer\n",
      "yes    0.642857\n",
      "no     0.357143\n",
      "Name: count, dtype: float64\n"
     ]
    }
   ],
   "source": [
    "#A1\n",
    "data=pd.read_excel(\"computer_buy.xlsx\")\n",
    "total_instances = len(data)\n",
    "class_counts = data['buys_computer'].value_counts()\n",
    "prior_probabilities = class_counts / total_instances\n",
    "\n",
    "print(prior_probabilities)"
   ]
  },
  {
   "cell_type": "code",
   "execution_count": 26,
   "metadata": {},
   "outputs": [
    {
     "name": "stdout",
     "output_type": "stream",
     "text": [
      "\n",
      "Class Conditional Density for feature 'age':\n",
      "buys_computer   no       yes\n",
      "age                         \n",
      "31...40        0.0  0.444444\n",
      "<=30           0.6  0.222222\n",
      ">40            0.4  0.333333\n",
      "Feature 'age' has class conditional density with zero values.\n",
      "\n",
      "Class Conditional Density for feature 'income':\n",
      "buys_computer   no       yes\n",
      "income                      \n",
      "high           0.4  0.222222\n",
      "low            0.2  0.333333\n",
      "medium         0.4  0.444444\n",
      "Feature 'income' does not have any class conditional density with zero values.\n",
      "\n",
      "Class Conditional Density for feature 'student':\n",
      "buys_computer   no       yes\n",
      "student                     \n",
      "no             0.8  0.333333\n",
      "yes            0.2  0.666667\n",
      "Feature 'student' does not have any class conditional density with zero values.\n",
      "\n",
      "Class Conditional Density for feature 'credit_rating':\n",
      "buys_computer   no       yes\n",
      "credit_rating               \n",
      "excellent      0.6  0.333333\n",
      "fair           0.4  0.666667\n",
      "Feature 'credit_rating' does not have any class conditional density with zero values.\n"
     ]
    }
   ],
   "source": [
    "\n",
    "#A2\n",
    "features = ['age', 'income', 'student', 'credit_rating']\n",
    "class_col = 'buys_computer'\n",
    "\n",
    "for feature in features:\n",
    "    density = pd.crosstab(index=data[feature], columns=data[class_col], normalize='columns')\n",
    "    print(f\"\\nClass Conditional Density for feature '{feature}':\")\n",
    "    print(density)\n",
    "\n",
    "    if (density == 0).any().any():\n",
    "        print(f\"Feature '{feature}' has class conditional density with zero values.\")\n",
    "    else:\n",
    "        print(f\"Feature '{feature}' does not have any class conditional density with zero values.\")\n"
   ]
  },
  {
   "cell_type": "code",
   "execution_count": 27,
   "metadata": {},
   "outputs": [
    {
     "name": "stdout",
     "output_type": "stream",
     "text": [
      "\n",
      "Chi-squared Test of Independence for features 'age' and 'income':\n",
      "Chi-squared statistic: 3.3249999999999997\n",
      "p-value: 0.5049810026322079\n",
      "The features 'age' and 'income' are independent.\n",
      "\n",
      "Chi-squared Test of Independence for features 'age' and 'student':\n",
      "Chi-squared statistic: 0.4\n",
      "p-value: 0.8187307530779818\n",
      "The features 'age' and 'student' are independent.\n",
      "\n",
      "Chi-squared Test of Independence for features 'age' and 'credit_rating':\n",
      "Chi-squared statistic: 0.11666666666666664\n",
      "p-value: 0.9433354498734922\n",
      "The features 'age' and 'credit_rating' are independent.\n",
      "\n",
      "Chi-squared Test of Independence for features 'income' and 'student':\n",
      "Chi-squared statistic: 5.666666666666666\n",
      "p-value: 0.0588164716424299\n",
      "The features 'income' and 'student' are independent.\n",
      "\n",
      "Chi-squared Test of Independence for features 'income' and 'credit_rating':\n",
      "Chi-squared statistic: 0.7291666666666666\n",
      "p-value: 0.6944859597510076\n",
      "The features 'income' and 'credit_rating' are independent.\n",
      "\n",
      "Chi-squared Test of Independence for features 'student' and 'credit_rating':\n",
      "Chi-squared statistic: 0.0\n",
      "p-value: 1.0\n",
      "The features 'student' and 'credit_rating' are independent.\n"
     ]
    }
   ],
   "source": [
    "\n",
    "from scipy.stats import chi2_contingency\n",
    "\n",
    "for i in range(len(features)):\n",
    "    for j in range(i+1, len(features)):\n",
    "        \n",
    "        contingency_table = pd.crosstab(data[features[i]], data[features[j]])\n",
    "        \n",
    "    \n",
    "        chi2, p, dof, expected = chi2_contingency(contingency_table)\n",
    "        \n",
    "       \n",
    "        print(f\"\\nChi-squared Test of Independence for features '{features[i]}' and '{features[j]}':\")\n",
    "        print(f\"Chi-squared statistic: {chi2}\")\n",
    "        print(f\"p-value: {p}\")\n",
    "        if p < 0.05:\n",
    "            print(f\"The features '{features[i]}' and '{features[j]}' are dependent.\")\n",
    "        else:\n",
    "            print(f\"The features '{features[i]}' and '{features[j]}' are independent.\")\n"
   ]
  },
  {
   "cell_type": "code",
   "execution_count": 28,
   "metadata": {},
   "outputs": [
    {
     "name": "stdout",
     "output_type": "stream",
     "text": [
      "Prediction: ['yes']\n"
     ]
    },
    {
     "name": "stderr",
     "output_type": "stream",
     "text": [
      "c:\\Users\\Win10\\AppData\\Local\\Programs\\Python\\Python311\\Lib\\site-packages\\sklearn\\base.py:464: UserWarning: X does not have valid feature names, but OrdinalEncoder was fitted with feature names\n",
      "  warnings.warn(\n"
     ]
    }
   ],
   "source": [
    "#A4\n",
    "from sklearn.preprocessing import OrdinalEncoder\n",
    "from sklearn.naive_bayes import GaussianNB\n",
    "\n",
    "\n",
    "encoder = OrdinalEncoder()\n",
    "encoded_features = encoder.fit_transform(data[features])\n",
    "\n",
    "clf = GaussianNB()\n",
    "clf.fit(encoded_features, data[class_col])\n",
    "\n",
    "new_instance = [['<=30', 'medium', 'yes', 'fair']] \n",
    "encoded_new_instance = encoder.transform(new_instance)\n",
    "prediction = clf.predict(encoded_new_instance)\n",
    "print('Prediction:', prediction)\n"
   ]
  },
  {
   "cell_type": "code",
   "execution_count": 29,
   "metadata": {},
   "outputs": [
    {
     "name": "stdout",
     "output_type": "stream",
     "text": [
      "Accuracy: 0.9039461609054756\n"
     ]
    }
   ],
   "source": [
    "#A5\n",
    "from sklearn.metrics import accuracy_score\n",
    "data = pd.read_csv('SolarPrediction.csv')\n",
    "\n",
    "data['Radiation_Class']=  pd.cut(data['Radiation'], \n",
    "                                 bins=[0, 800,  1610], labels=[0, 1])\n",
    "X= data.iloc[:,4:9]\n",
    "y=data['Radiation_Class']\n",
    "\n",
    "X_train, X_test, y_train, y_test = train_test_split(X, y, test_size=0.20, random_state=0)\n",
    "\n",
    "clf = GaussianNB()\n",
    "clf.fit(X_train, y_train)\n",
    "\n",
    "y_pred = clf.predict(X_test)\n",
    "\n",
    "accuracy = accuracy_score(y_test, y_pred)\n",
    "\n",
    "print(f\"Accuracy: {accuracy}\")\n"
   ]
  }
 ],
 "metadata": {
  "kernelspec": {
   "display_name": "Python 3 (ipykernel)",
   "language": "python",
   "name": "python3"
  },
  "language_info": {
   "codemirror_mode": {
    "name": "ipython",
    "version": 3
   },
   "file_extension": ".py",
   "mimetype": "text/x-python",
   "name": "python",
   "nbconvert_exporter": "python",
   "pygments_lexer": "ipython3",
   "version": "3.11.3"
  }
 },
 "nbformat": 4,
 "nbformat_minor": 5
}
